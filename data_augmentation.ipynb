{
 "cells": [
  {
   "cell_type": "code",
   "execution_count": 9,
   "metadata": {},
   "outputs": [],
   "source": [
    "import librosa\n",
    "import numpy as np\n",
    "import soundfile as sf\n",
    "import os\n",
    "import pandas as pd\n",
    "import random"
   ]
  },
  {
   "cell_type": "code",
   "execution_count": 10,
   "metadata": {},
   "outputs": [],
   "source": [
    "def extract_classes(path):\n",
    "    df = pd.read_csv(os.path.join(path, 'meta/esc50.csv'))\n",
    "    list_fire = df[df.target==12]['filename'].tolist()\n",
    "    list_no_fire = df[df.target!=12]['filename'].tolist()\n",
    "    return list_fire, list_no_fire"
   ]
  },
  {
   "cell_type": "code",
   "execution_count": 15,
   "metadata": {},
   "outputs": [],
   "source": [
    "def add_background(path, main_path, bg_path, bg_volume=0.1):\n",
    "    \n",
    "    # Load audio files\n",
    "    main_audio, sr_main = librosa.load(os.path.join(path,'audio', main_path), sr=None)\n",
    "    bg_audio, sr_bg = librosa.load(os.path.join(path,'audio', bg_path), sr=None)\n",
    "\n",
    "    # Ensure sample rates match\n",
    "    if sr_main != sr_bg:\n",
    "        raise ValueError(\"Sample rates of main and background audio must match\")\n",
    "\n",
    "    # Ensure both audio signals are the same length\n",
    "    if len(main_audio) > len(bg_audio):\n",
    "        # Repeat or truncate the background audio to match the length of the main audio\n",
    "        bg_audio = np.tile(bg_audio, int(np.ceil(len(main_audio) / len(bg_audio))))[:len(main_audio)]\n",
    "    elif len(bg_audio) > len(main_audio):\n",
    "        # Truncate background audio if it's longer\n",
    "        bg_audio = bg_audio[:len(main_audio)]\n",
    "    \n",
    "    # Scale the background audio\n",
    "    bg_audio = bg_audio * bg_volume\n",
    "    \n",
    "    # Combine the main audio and background audio\n",
    "    mixed_audio = main_audio + bg_audio\n",
    "    \n",
    "    # Normalize the mixed audio to prevent clipping\n",
    "    max_amplitude = np.max(np.abs(mixed_audio))\n",
    "    if max_amplitude > 1.0:\n",
    "        mixed_audio = mixed_audio / max_amplitude\n",
    "\n",
    "    out_path = os.path.join(\"fire_audio\", main_path[:-4]+bg_path[:-4]+'.wav')\n",
    "\n",
    "    # Save the mixed audio\n",
    "    sf.write(out_path, mixed_audio, sr_main)\n"
   ]
  },
  {
   "cell_type": "code",
   "execution_count": 16,
   "metadata": {},
   "outputs": [],
   "source": [
    "def generate_fire_data(path):\n",
    "\n",
    "    list_fire, list_no_fire = extract_classes(path)\n",
    "\n",
    "    for i in range(40*48):\n",
    "        while True :\n",
    "            main_path = random.choice(list_fire)\n",
    "            bg_path = random.choice(list_no_fire)\n",
    "\n",
    "            # check that the couple (main_path, bg_path) is not taken before\n",
    "            file_path = os.path.join(\"fire_audio\", main_path[:-4]+bg_path[:-4]+'.wav')\n",
    "            if not os.path.isfile(file_path) :\n",
    "                break\n",
    "        \n",
    "        add_background(path, main_path, bg_path)"
   ]
  },
  {
   "cell_type": "code",
   "execution_count": 18,
   "metadata": {},
   "outputs": [],
   "source": [
    "generate_fire_data('data/esc50')"
   ]
  },
  {
   "cell_type": "code",
   "execution_count": 19,
   "metadata": {},
   "outputs": [
    {
     "name": "stdout",
     "output_type": "stream",
     "text": [
      "Number of .wav files: 1920\n"
     ]
    }
   ],
   "source": [
    "import os\n",
    "\n",
    "# Path to the folder containing the .wav files\n",
    "folder_path = \"fire_audio\"\n",
    "\n",
    "# List all files in the folder and count the ones ending with .wav\n",
    "wav_files = [f for f in os.listdir(folder_path) if f.endswith('.wav')]\n",
    "num_wav_files = len(wav_files)\n",
    "\n",
    "print(f\"Number of .wav files: {num_wav_files}\")"
   ]
  },
  {
   "cell_type": "code",
   "execution_count": null,
   "metadata": {},
   "outputs": [],
   "source": []
  },
  {
   "cell_type": "code",
   "execution_count": null,
   "metadata": {},
   "outputs": [],
   "source": []
  },
  {
   "cell_type": "code",
   "execution_count": null,
   "metadata": {},
   "outputs": [],
   "source": []
  },
  {
   "cell_type": "code",
   "execution_count": 17,
   "metadata": {},
   "outputs": [],
   "source": [
    "import glob\n",
    "import os\n",
    "\n",
    "# Path to the folder containing the .wav files\n",
    "folder_path = \"fire_audio\"\n",
    "\n",
    "# Use glob to find all .wav files in the folder and delete them\n",
    "wav_files = glob.glob(os.path.join(folder_path, \"*.wav\"))\n",
    "\n",
    "for file_path in wav_files:\n",
    "    os.remove(file_path)"
   ]
  }
 ],
 "metadata": {
  "kernelspec": {
   "display_name": "Python 3",
   "language": "python",
   "name": "python3"
  },
  "language_info": {
   "codemirror_mode": {
    "name": "ipython",
    "version": 3
   },
   "file_extension": ".py",
   "mimetype": "text/x-python",
   "name": "python",
   "nbconvert_exporter": "python",
   "pygments_lexer": "ipython3",
   "version": "3.10.6"
  }
 },
 "nbformat": 4,
 "nbformat_minor": 2
}
