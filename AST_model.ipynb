{
 "cells": [
  {
   "cell_type": "code",
   "execution_count": 1,
   "metadata": {},
   "outputs": [],
   "source": [
    "import torch\n",
    "from transformers import AutoFeatureExtractor, AutoModelForAudioClassification, TrainingArguments, Trainer\n",
    "from datasets import load_dataset, ClassLabel"
   ]
  },
  {
   "cell_type": "code",
   "execution_count": 3,
   "metadata": {},
   "outputs": [],
   "source": [
    "# Load the pre-trained AST model and feature extractor\n",
    "model_name = \"MIT/ast-finetuned-audioset-10-10-0.4593\"\n",
    "feature_extractor = AutoFeatureExtractor.from_pretrained(model_name)\n",
    "model = AutoModelForAudioClassification.from_pretrained(model_name)"
   ]
  },
  {
   "cell_type": "code",
   "execution_count": 4,
   "metadata": {},
   "outputs": [
    {
     "name": "stdout",
     "output_type": "stream",
     "text": [
      "ASTFeatureExtractor {\n",
      "  \"do_normalize\": true,\n",
      "  \"feature_extractor_type\": \"ASTFeatureExtractor\",\n",
      "  \"feature_size\": 1,\n",
      "  \"max_length\": 1024,\n",
      "  \"mean\": -4.2677393,\n",
      "  \"num_mel_bins\": 128,\n",
      "  \"padding_side\": \"right\",\n",
      "  \"padding_value\": 0.0,\n",
      "  \"return_attention_mask\": false,\n",
      "  \"sampling_rate\": 16000,\n",
      "  \"std\": 4.5689974\n",
      "}\n",
      "\n"
     ]
    }
   ],
   "source": [
    "print(feature_extractor)"
   ]
  },
  {
   "cell_type": "code",
   "execution_count": 6,
   "metadata": {},
   "outputs": [
    {
     "data": {
      "text/plain": [
       "16"
      ]
     },
     "execution_count": 6,
     "metadata": {},
     "output_type": "execute_result"
    }
   ],
   "source": [
    "model.config.patch_size\n"
   ]
  },
  {
   "cell_type": "code",
   "execution_count": 7,
   "metadata": {},
   "outputs": [],
   "source": [
    "# binary classification\n",
    "model.config.num_labels = 1  \n",
    "model.classifier = torch.nn.Linear(model.config.hidden_size, 1)  "
   ]
  },
  {
   "cell_type": "code",
   "execution_count": null,
   "metadata": {},
   "outputs": [],
   "source": [
    "# Load dataset\n",
    "dataset = load_dataset(\"your_dataset_name\")  # Replace with dataset"
   ]
  },
  {
   "cell_type": "code",
   "execution_count": null,
   "metadata": {},
   "outputs": [],
   "source": [
    "# Preprocess the dataset\n",
    "# This function converts each audio example to the required format using the feature extractor.\n",
    "def preprocess_function(examples):\n",
    "    audio = examples[\"audio\"]  # Replace \"audio\" with the actual column name in your dataset\n",
    "    inputs = feature_extractor(audio[\"array\"], sampling_rate=audio[\"sampling_rate\"], return_tensors=\"pt\")\n",
    "    return inputs\n",
    "\n",
    "# Apply the preprocessing function to the dataset\n",
    "dataset = dataset.map(preprocess_function, remove_columns=[\"audio_column\"])"
   ]
  },
  {
   "cell_type": "code",
   "execution_count": null,
   "metadata": {},
   "outputs": [],
   "source": [
    "# training arguments\n",
    "training_args = TrainingArguments(\n",
    "    output_dir=\"./ast-finetuned-binary\",  # Save directory\n",
    "    evaluation_strategy=\"epoch\",  # Evaluate the model at each epoch\n",
    "    per_device_train_batch_size=4,  # Adjust batch size according to your hardware\n",
    "    per_device_eval_batch_size=4,\n",
    "    num_train_epochs=3,  # Number of training epochs\n",
    "    learning_rate=5e-5,  # Learning rate\n",
    "    save_steps=500,  # Save checkpoint every 500 steps\n",
    "    logging_dir=\"./logs\",  # Directory for logs\n",
    "    logging_steps=100,  # Log every 100 steps\n",
    ")\n"
   ]
  },
  {
   "cell_type": "code",
   "execution_count": null,
   "metadata": {},
   "outputs": [],
   "source": [
    "# Step 6: Define the trainer\n",
    "# The Trainer class will handle training, evaluation, and saving of the model.\n",
    "trainer = Trainer(\n",
    "    model=model,\n",
    "    args=training_args,\n",
    "    train_dataset=dataset[\"train\"],  # Your training dataset\n",
    "    eval_dataset=dataset[\"test\"],  # Your validation/test dataset\n",
    "    tokenizer=feature_extractor,  # Not really used but can be set to the feature extractor\n",
    ")\n",
    "\n",
    "# Step 7: Fine-tune the model\n",
    "trainer.train()\n",
    "\n",
    "# Step 8: Save the fine-tuned model\n",
    "trainer.save_model(\"./ast-finetuned-binary\")"
   ]
  },
  {
   "cell_type": "markdown",
   "metadata": {},
   "source": [
    "### Inference"
   ]
  },
  {
   "cell_type": "code",
   "execution_count": null,
   "metadata": {},
   "outputs": [],
   "source": [
    "# sigmoid function for probabilities\n",
    "probabilities = torch.sigmoid(outputs.logits)\n",
    "\n",
    "# Class predictions can be obtained by thresholding the probabilities (e.g., > 0.5)\n",
    "predictions = (probabilities > 0.5).float()  \n"
   ]
  }
 ],
 "metadata": {
  "kernelspec": {
   "display_name": "Python 3",
   "language": "python",
   "name": "python3"
  },
  "language_info": {
   "codemirror_mode": {
    "name": "ipython",
    "version": 3
   },
   "file_extension": ".py",
   "mimetype": "text/x-python",
   "name": "python",
   "nbconvert_exporter": "python",
   "pygments_lexer": "ipython3",
   "version": "3.10.6"
  }
 },
 "nbformat": 4,
 "nbformat_minor": 2
}
