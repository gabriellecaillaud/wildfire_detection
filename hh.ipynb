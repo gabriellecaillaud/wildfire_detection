{
 "cells": [
  {
   "cell_type": "code",
   "execution_count": 1,
   "metadata": {},
   "outputs": [],
   "source": [
    "import librosa\n",
    "import glob\n",
    "import numpy as np\n",
    "import soundfile as sf\n",
    "import os\n",
    "import pandas as pd\n",
    "import random\n",
    "from copy import copy\n"
   ]
  },
  {
   "cell_type": "code",
   "execution_count": 4,
   "metadata": {},
   "outputs": [],
   "source": [
    "df= pd.read_csv('audio_data/meta/esc2.csv')\n",
    "df['filename'] = df['filename'].apply(lambda x: str(x)+'.wav')\n",
    "df.to_csv('audio_data/meta/esc2.csv', index=False)"
   ]
  },
  {
   "cell_type": "code",
   "execution_count": 18,
   "metadata": {},
   "outputs": [],
   "source": [
    "\n",
    "def extract_classes(path):\n",
    "    df = pd.read_csv(os.path.join(path, 'meta/esc50.csv'))\n",
    "    list_fire = df[df.target==12]['filename'].tolist()\n",
    "    list_no_fire = df[df.target!=12]['filename'].tolist()\n",
    "    return list_fire, list_no_fire"
   ]
  },
  {
   "cell_type": "code",
   "execution_count": 19,
   "metadata": {},
   "outputs": [],
   "source": [
    "list_fire, list_no_fire = extract_classes('data/esc50')\n",
    "random.shuffle(list_fire)\n",
    "random.shuffle(list_no_fire)\n",
    "#fire split\n",
    "list_fire_train , list_fire_val_test = list_fire[:len(list_fire)//2], list_fire[len(list_fire)//2:]\n",
    "# non fire split :\n",
    "list_non_fire_train , list_non_fire_val_test = list_no_fire[:len(list_no_fire)//2], list_no_fire[len(list_no_fire)//2:]"
   ]
  },
  {
   "cell_type": "code",
   "execution_count": 20,
   "metadata": {},
   "outputs": [
    {
     "data": {
      "text/plain": [
       "980"
      ]
     },
     "execution_count": 20,
     "metadata": {},
     "output_type": "execute_result"
    }
   ],
   "source": [
    "len(list_non_fire_train)"
   ]
  },
  {
   "cell_type": "markdown",
   "metadata": {},
   "source": [
    "il faut avoir 960 donnée augmenter dans l'entrainement"
   ]
  },
  {
   "cell_type": "code",
   "execution_count": 31,
   "metadata": {},
   "outputs": [],
   "source": [
    "#changer seuelemnt  ( i_start , label du target )\n",
    "\n",
    "def add_audio(path ,list_inp):\n",
    "    i_start=1980\n",
    "\n",
    "    i = i_start\n",
    "    for name_audio in list_inp :\n",
    "        audio, sr = librosa.load(os.path.join(path,'audio', name_audio), sr=None)\n",
    "\n",
    "        out_path = os.path.join(\"audio_data/audio\", str(i)+'.wav')\n",
    "        sf.write(out_path, audio, sr)\n",
    "        i+=1\n",
    "    \n",
    "    df = pd.read_csv(\"audio_data/meta/esc2.csv\")\n",
    "    df1 = pd.DataFrame({'filename': [j for j in range(i_start,len(list_inp)+i_start)],\n",
    "                        'target' : [0 for j in range(len(list_inp))] })\n",
    "    df = pd.concat([df, df1])\n",
    "    df.to_csv(\"audio_data/meta/esc2.csv\", index=False)\n",
    "\n"
   ]
  },
  {
   "cell_type": "code",
   "execution_count": 32,
   "metadata": {},
   "outputs": [],
   "source": [
    "# add 20 fire audio for training\n",
    "add_audio('data/esc50', list_non_fire_val_test)"
   ]
  },
  {
   "cell_type": "code",
   "execution_count": null,
   "metadata": {},
   "outputs": [],
   "source": []
  },
  {
   "cell_type": "code",
   "execution_count": null,
   "metadata": {},
   "outputs": [],
   "source": []
  },
  {
   "cell_type": "code",
   "execution_count": null,
   "metadata": {},
   "outputs": [],
   "source": [
    "\n"
   ]
  },
  {
   "cell_type": "code",
   "execution_count": 16,
   "metadata": {},
   "outputs": [],
   "source": [
    "def delete_audio():\n",
    "\n",
    "    ###### delete fire audio #####\n",
    "    # Path to the folder containing the .wav files\n",
    "    folder_path = \"audio_data/audio\"\n",
    "\n",
    "    # Use glob to find all .wav files in the folder and delete them\n",
    "    wav_files = glob.glob(os.path.join(folder_path, \"*.wav\"))\n",
    "\n",
    "    for file_path in wav_files:\n",
    "        os.remove(file_path)\n",
    "\n",
    "    #### delete non fire audio ####  \n",
    "    # Path to the folder containing the .wav files\n",
    "    folder_path = \"audio_data/non_fire_audio\"\n",
    "\n",
    "    # Use glob to find all .wav files in the folder and delete them\n",
    "    wav_files = glob.glob(os.path.join(folder_path, \"*.wav\"))\n",
    "\n",
    "    for file_path in wav_files:\n",
    "        os.remove(file_path)\n",
    "\n",
    "delete_audio()"
   ]
  },
  {
   "cell_type": "code",
   "execution_count": null,
   "metadata": {},
   "outputs": [],
   "source": []
  },
  {
   "cell_type": "code",
   "execution_count": 33,
   "metadata": {},
   "outputs": [],
   "source": [
    "\n",
    "def add_background(valll, path, main_path, bg_path, bg_volume=0.1):\n",
    "    \n",
    "    # Load audio files\n",
    "    main_audio, sr_main = librosa.load(os.path.join(path,'audio', main_path), sr=None)\n",
    "    bg_audio, sr_bg = librosa.load(os.path.join(path,'audio', bg_path), sr=None)\n",
    "\n",
    "    # Ensure sample rates match\n",
    "    if sr_main != sr_bg:\n",
    "        raise ValueError(\"Sample rates of main and background audio must match\")\n",
    "\n",
    "    # Ensure both audio signals are the same length\n",
    "    if len(main_audio) > len(bg_audio):\n",
    "        # Repeat or truncate the background audio to match the length of the main audio\n",
    "        bg_audio = np.tile(bg_audio, int(np.ceil(len(main_audio) / len(bg_audio))))[:len(main_audio)]\n",
    "    elif len(bg_audio) > len(main_audio):\n",
    "        # Truncate background audio if it's longer\n",
    "        bg_audio = bg_audio[:len(main_audio)]\n",
    "    \n",
    "    # Scale the background audio\n",
    "    bg_audio = bg_audio * bg_volume\n",
    "    \n",
    "    # Combine the main audio and background audio\n",
    "    mixed_audio = main_audio + bg_audio\n",
    "    \n",
    "    # Normalize the mixed audio to prevent clipping\n",
    "    max_amplitude = np.max(np.abs(mixed_audio))\n",
    "    if max_amplitude > 1.0:\n",
    "        mixed_audio = mixed_audio / max_amplitude\n",
    "\n",
    "    out_path = os.path.join(\"audio_data/audio\", str(valll+2960)+'.wav')\n",
    "\n",
    "    # Save the mixed audio\n",
    "    sf.write(out_path, mixed_audio, sr_main)\n",
    "\n",
    "\n",
    "    df = pd.read_csv(\"audio_data/meta/esc2.csv\")\n",
    "    df1 = pd.DataFrame({'filename': [valll+2960],\n",
    "                        'target' : [1] })\n",
    "    df = pd.concat([df, df1])\n",
    "    df.to_csv(\"audio_data/meta/esc2.csv\", index=False)\n",
    "\n"
   ]
  },
  {
   "cell_type": "code",
   "execution_count": 34,
   "metadata": {},
   "outputs": [],
   "source": [
    "\n",
    "\n",
    "# fire audio augmentation\n",
    "\n",
    "ls_main = copy(list_fire_val_test)\n",
    "ls_bg = copy(list_non_fire_val_test)\n",
    "track= []\n",
    "\n",
    "for valll in range(960):\n",
    "    while True: \n",
    "\n",
    "        main_path = random.choice(ls_main)\n",
    "        bg_path = random.choice(ls_bg)\n",
    "        \n",
    "        if (main_path, bg_path) not in track : \n",
    "            track.append((main_path, bg_path))\n",
    "            break\n",
    "        \n",
    "    add_background(valll, 'data/esc50', main_path, bg_path)\n",
    "\n",
    "\n"
   ]
  },
  {
   "cell_type": "code",
   "execution_count": null,
   "metadata": {},
   "outputs": [],
   "source": [
    "# indice train : range(1960)\n"
   ]
  },
  {
   "cell_type": "code",
   "execution_count": 35,
   "metadata": {},
   "outputs": [
    {
     "data": {
      "text/html": [
       "<div>\n",
       "<style scoped>\n",
       "    .dataframe tbody tr th:only-of-type {\n",
       "        vertical-align: middle;\n",
       "    }\n",
       "\n",
       "    .dataframe tbody tr th {\n",
       "        vertical-align: top;\n",
       "    }\n",
       "\n",
       "    .dataframe thead th {\n",
       "        text-align: right;\n",
       "    }\n",
       "</style>\n",
       "<table border=\"1\" class=\"dataframe\">\n",
       "  <thead>\n",
       "    <tr style=\"text-align: right;\">\n",
       "      <th></th>\n",
       "      <th>filename</th>\n",
       "      <th>target</th>\n",
       "    </tr>\n",
       "  </thead>\n",
       "  <tbody>\n",
       "    <tr>\n",
       "      <th>0</th>\n",
       "      <td>0</td>\n",
       "      <td>1</td>\n",
       "    </tr>\n",
       "    <tr>\n",
       "      <th>1</th>\n",
       "      <td>1</td>\n",
       "      <td>1</td>\n",
       "    </tr>\n",
       "    <tr>\n",
       "      <th>2</th>\n",
       "      <td>2</td>\n",
       "      <td>1</td>\n",
       "    </tr>\n",
       "    <tr>\n",
       "      <th>3</th>\n",
       "      <td>3</td>\n",
       "      <td>1</td>\n",
       "    </tr>\n",
       "    <tr>\n",
       "      <th>4</th>\n",
       "      <td>4</td>\n",
       "      <td>1</td>\n",
       "    </tr>\n",
       "    <tr>\n",
       "      <th>...</th>\n",
       "      <td>...</td>\n",
       "      <td>...</td>\n",
       "    </tr>\n",
       "    <tr>\n",
       "      <th>3915</th>\n",
       "      <td>3915</td>\n",
       "      <td>1</td>\n",
       "    </tr>\n",
       "    <tr>\n",
       "      <th>3916</th>\n",
       "      <td>3916</td>\n",
       "      <td>1</td>\n",
       "    </tr>\n",
       "    <tr>\n",
       "      <th>3917</th>\n",
       "      <td>3917</td>\n",
       "      <td>1</td>\n",
       "    </tr>\n",
       "    <tr>\n",
       "      <th>3918</th>\n",
       "      <td>3918</td>\n",
       "      <td>1</td>\n",
       "    </tr>\n",
       "    <tr>\n",
       "      <th>3919</th>\n",
       "      <td>3919</td>\n",
       "      <td>1</td>\n",
       "    </tr>\n",
       "  </tbody>\n",
       "</table>\n",
       "<p>3920 rows × 2 columns</p>\n",
       "</div>"
      ],
      "text/plain": [
       "      filename  target\n",
       "0            0       1\n",
       "1            1       1\n",
       "2            2       1\n",
       "3            3       1\n",
       "4            4       1\n",
       "...        ...     ...\n",
       "3915      3915       1\n",
       "3916      3916       1\n",
       "3917      3917       1\n",
       "3918      3918       1\n",
       "3919      3919       1\n",
       "\n",
       "[3920 rows x 2 columns]"
      ]
     },
     "execution_count": 35,
     "metadata": {},
     "output_type": "execute_result"
    }
   ],
   "source": [
    "df = pd.read_csv(\"audio_data/meta/esc2.csv\")\n",
    "df"
   ]
  }
 ],
 "metadata": {
  "kernelspec": {
   "display_name": "Python 3",
   "language": "python",
   "name": "python3"
  },
  "language_info": {
   "codemirror_mode": {
    "name": "ipython",
    "version": 3
   },
   "file_extension": ".py",
   "mimetype": "text/x-python",
   "name": "python",
   "nbconvert_exporter": "python",
   "pygments_lexer": "ipython3",
   "version": "3.9.13"
  }
 },
 "nbformat": 4,
 "nbformat_minor": 2
}
